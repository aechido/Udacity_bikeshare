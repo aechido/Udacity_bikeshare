{
 "cells": [
  {
   "cell_type": "code",
   "execution_count": 1,
   "metadata": {
    "collapsed": true
   },
   "outputs": [],
   "source": [
    "import csv\n",
    "from datetime import datetime\n",
    "import time       \n",
    "import calendar\n",
    "import pandas as pd"
   ]
  },
  {
   "cell_type": "code",
   "execution_count": 2,
   "metadata": {
    "collapsed": true
   },
   "outputs": [],
   "source": [
    "city_file = { 'chicago': 'chicago.csv',\n",
    "              'new york city': 'new_york_city.csv',\n",
    "              'washington': 'washington.csv' }\n"
   ]
  },
  {
   "cell_type": "code",
   "execution_count": 3,
   "metadata": {},
   "outputs": [
    {
     "name": "stdout",
     "output_type": "stream",
     "text": [
      "Start Time            2017-01-01 00:00:36\n",
      "End Time              2017-01-01 00:06:32\n",
      "Trip Duration                         356\n",
      "Start Station        Canal St & Taylor St\n",
      "End Station      Canal St & Monroe St (*)\n",
      "User Type                        Customer\n",
      "Gender                                NaN\n",
      "Birth Year                            NaN\n",
      "Name: 0, dtype: object\n",
      "Start Time               2017-01-01 00:00:21\n",
      "End Time                 2017-01-01 00:11:41\n",
      "Trip Duration                            680\n",
      "Start Station    W 82 St & Central Park West\n",
      "End Station      Central Park West & W 72 St\n",
      "User Type                         Subscriber\n",
      "Gender                                Female\n",
      "Birth Year                              1965\n",
      "Name: 0, dtype: object\n",
      "Start Time            2017-01-01 00:00:00\n",
      "End Time              2017-01-01 00:04:00\n",
      "Trip Duration                     221.834\n",
      "Start Station          3rd & Tingey St SE\n",
      "End Station      M St & New Jersey Ave SE\n",
      "User Type                      Subscriber\n",
      "Name: 0, dtype: object\n"
     ]
    }
   ],
   "source": [
    "\"Import each city_file into a list and close the orginal file\"\n",
    "\n",
    "#def read_csv(filename): \n",
    "#     with open(filename, 'r') as f:\n",
    "  #      reader = csv.DictReader(f)\n",
    "   #     return list(reader)\n",
    "\n",
    "#chicago= read_csv('chicago.csv')\n",
    "#new_york_city= read_csv('new_york_city.csv')\n",
    "#washington= read_csv('washington.csv')\n",
    "\n",
    "chicago= pd.read_csv('chicago.csv')\n",
    "nycity= pd.read_csv('new_york_city.csv')\n",
    "washington= pd.read_csv('washington.csv')\n",
    "\n",
    " \n",
    "print(chicago.iloc[0])\n",
    "print(nycity.iloc[0])\n",
    "print(washington.iloc[0])"
   ]
  },
  {
   "cell_type": "code",
   "execution_count": 4,
   "metadata": {
    "collapsed": true
   },
   "outputs": [],
   "source": [
    "\n",
    "# read each line from Chicago file\n",
    "\n",
    "start_time  = pd.to_datetime(chicago['Start Time']) # convert string time into  Python time\n",
    "end_time    = pd.to_datetime(chicago['End Time'])\n",
    "trip_dur    = pd.to_numeric(chicago['Trip Duration'], errors='coerce') \n",
    "start_stn   = chicago['Start Station']\n",
    "end_stn     = chicago['End Station']\n",
    "user_type   = chicago['User Type']\n",
    "user_gender = chicago['Gender']\n",
    "user_byear  = pd.to_numeric(chicago['Birth Year'])  # you might need to convert this to an integer\n",
    "        \n",
    "#print(start_time, end_time, trip_dur, start_stn, end_stn, user_type, user_gender, user_byear)\n",
    "        \n",
    "#i = i + 1\n",
    "#if i == 10: #print only 10 lines, otherwise it's massive amount of data\n",
    " #   break\n",
    " \n"
   ]
  },
  {
   "cell_type": "code",
   "execution_count": 5,
   "metadata": {
    "collapsed": true
   },
   "outputs": [],
   "source": [
    "# read each line from NYC file\n",
    "\n",
    "start_time  = pd.to_datetime(nycity['Start Time']) # convert string time into  Python time\n",
    "end_time    = pd.to_datetime(nycity['End Time'])\n",
    "trip_dur    = pd.to_numeric(nycity['Trip Duration'], errors='coerce') \n",
    "start_stn   = nycity['Start Station']\n",
    "end_stn     = nycity['End Station']\n",
    "user_type   = nycity['User Type']\n",
    "user_gender = nycity['Gender']\n",
    "user_byear  = pd.to_numeric(nycity['Birth Year'])\n",
    "\n"
   ]
  },
  {
   "cell_type": "code",
   "execution_count": 6,
   "metadata": {
    "collapsed": true
   },
   "outputs": [],
   "source": [
    "# read each line from Washington file\n",
    "\n",
    "start_time  = pd.to_datetime(washington['Start Time']) # convert string time into  Python time\n",
    "end_time    = pd.to_datetime(washington['End Time'])\n",
    "trip_dur    = pd.to_numeric(washington['Trip Duration'], errors='coerce') \n",
    "start_stn   = washington['Start Station']\n",
    "end_stn     = washington['End Station']\n",
    "user_type   = washington['User Type']\n"
   ]
  },
  {
   "cell_type": "code",
   "execution_count": 7,
   "metadata": {
    "collapsed": true
   },
   "outputs": [],
   "source": [
    "def get_city():\n",
    "    '''Asks the user for a city and returns the filename for that city's bike share data.\n",
    "\n",
    "    Args:\n",
    "        none.\n",
    "    Returns:\n",
    "        (str) Filename for a city's bikeshare data.\n",
    "    '''\n",
    "    city = input('\\nHello! Let\\'s explore some US bikeshare data!\\n'\n",
    "                 'Would you like to see data for Chicago, New York, or Washington?\\n')\n",
    "    # TODO: handle raw input and complete function\n",
    "    \n",
    "    if city == 'Chicago':\n",
    "        return(chicago)\n",
    "    elif city == 'New York City':\n",
    "        return(new_york_city)\n",
    "    elif city == 'Washington':\n",
    "        return (washington)\n",
    "    else:\n",
    "        print(\"Please select a valid city\")    \n"
   ]
  },
  {
   "cell_type": "code",
   "execution_count": 8,
   "metadata": {
    "collapsed": true
   },
   "outputs": [],
   "source": [
    "def get_time_period():\n",
    "    '''Asks the user for a time period and returns the specified filter.\n",
    "\n",
    "    Args:\n",
    "        none.\n",
    "    Returns:\n",
    "        TODO: fill out return type and description (see get_city for an example)\n",
    "    '''\n",
    "    \n",
    "    while True:\n",
    "        time_period = input('\\nWould you like to filter the data by month, day, or not at'\n",
    "                        ' all? Type \"none\" for no time filter.\\n')\n",
    "    # TODO: handle raw input and complete function       \n",
    "        time_filter= ''   \n",
    "        \n",
    "        if (time_period.lower() == 'month' \n",
    "        or time_period.lower() == 'day'\n",
    "        or time_period.lower() == 'weekday'\n",
    "        or time_period.lower() == 'none'):\n",
    "                time_filter = time_period.lower()\n",
    "                break\n",
    "        else:\n",
    "                print ('Please select a valid time period.\\n')    "
   ]
  },
  {
   "cell_type": "code",
   "execution_count": 9,
   "metadata": {
    "collapsed": true
   },
   "outputs": [],
   "source": [
    "def get_month():\n",
    "    '''Asks the user for a month and returns the specified month.\n",
    "\n",
    "    Args:\n",
    "        none.\n",
    "    Returns:\n",
    "        TODO: fill out return type and description (see get_city for an example)\n",
    "    '''\n",
    "    \n",
    "    month_options = ['january', 'february', 'march', 'april', 'may', 'june']\n",
    "    \n",
    "    while True:\n",
    "        month = input('\\nWhich month? January, February, March, April, May, or June?\\n')\n",
    "    \n",
    "    # TODO: handle raw input and complete function\n",
    "        if month in month_options:\n",
    "            return month_options.index(month) + 1\n",
    "        else:\n",
    "            print (\"ERROR: check the spelling and remember it's case sensitive\")"
   ]
  },
  {
   "cell_type": "code",
   "execution_count": 10,
   "metadata": {
    "collapsed": true
   },
   "outputs": [],
   "source": [
    "def get_day(month):\n",
    "    '''Asks the user for a day and returns the specified day.\n",
    "\n",
    "    Args:\n",
    "        none.\n",
    "    Returns:\n",
    "        TODO: fill out return type and description (see get_city for an example)\n",
    "    '''\n",
    "    \n",
    "    month_input = start_time.dt.month \n",
    "    day_input= start_time.dt.weekday_name\n",
    "    #last_day_of_month = calendar.monthrange(month_input)\n",
    "    \n",
    "\n",
    "    while True:\n",
    "        day = input('\\nWhich day? Please type your response as an integer.\\n')\n",
    "    # TODO: handle raw input and complete function\n",
    "    #return 'Monday', 'Tuesday', 'Wednesday', 'Thursday', 'Friday', 'Saturday', 'Sunday'\n",
    "    \n",
    "        if day in month_input:\n",
    "            return day_input\n",
    "        else:\n",
    "            print('An invalid day was entered.\\n')"
   ]
  },
  {
   "cell_type": "code",
   "execution_count": 12,
   "metadata": {
    "collapsed": true
   },
   "outputs": [],
   "source": [
    "def popular_month(city_file, time_period):\n",
    "    '''TODO: fill out docstring with description, arguments, and return values.\n",
    "    Question: What is the most popular month for start time?\n",
    "    '''\n",
    "  \n",
    "    return (city_file['Start Time'].dt.month.mode())          \n",
    "    "
   ]
  },
  {
   "cell_type": "code",
   "execution_count": 13,
   "metadata": {
    "collapsed": true
   },
   "outputs": [],
   "source": [
    "def popular_day(city_file, time_period):\n",
    "    '''TODO: fill out docstring with description, arguments, and return values.\n",
    "    Question: What is the most popular day of week (Monday, Tuesday, etc.) for start time?\n",
    "    '''\n",
    "    # TODO: complete function\n",
    "    return (city_file['Start Time'].dt.weekday_name.mode())\n",
    "     "
   ]
  },
  {
   "cell_type": "code",
   "execution_count": 14,
   "metadata": {
    "collapsed": true
   },
   "outputs": [],
   "source": [
    "def popular_hour(city_file, time_period):\n",
    "    '''TODO: fill out docstring with description, arguments, and return values.\n",
    "    Question: What is the most popular hour of day for start time?\n",
    "    '''\n",
    "    # TODO: complete function\n",
    "    return (city_file['Start Time'].dt.hour.mode())\n",
    "    \n",
    "    "
   ]
  },
  {
   "cell_type": "code",
   "execution_count": 15,
   "metadata": {
    "collapsed": true
   },
   "outputs": [],
   "source": [
    "def trip_duration(city_file, time_period):\n",
    "    '''TODO: fill out docstring with description, arguments, and return values.\n",
    "    Question: What is the total trip duration and average trip duration?\n",
    "    '''\n",
    "    # TODO: complete function\n",
    "    return (city_file['Trip Duration'].sum(), city_file['Trip Duration'].mean())\n",
    "        "
   ]
  },
  {
   "cell_type": "code",
   "execution_count": 16,
   "metadata": {
    "collapsed": true
   },
   "outputs": [],
   "source": [
    "def popular_stations(city_file, time_period):\n",
    "    '''TODO: fill out docstring with description, arguments, and return values.\n",
    "    Question: What is the most popular start station and most popular end station?\n",
    "    '''\n",
    "    # TODO: complete function\n",
    "    return (city_file['Start Station'].value_counts(), city_file['End Station'].value_counts())    \n",
    "    "
   ]
  },
  {
   "cell_type": "code",
   "execution_count": null,
   "metadata": {
    "collapsed": true
   },
   "outputs": [],
   "source": [
    "def popular_trip(city_file, time_period):\n",
    "    '''TODO: fill out docstring with description, arguments, and return values.\n",
    "    Question: What is the most popular trip?\n",
    "    '''\n",
    "    # TODO: complete function\n",
    "    trip = (city_file.groupby(['Start Station', 'End Station'])\n",
    "                     .size()\n",
    "                     .sort_values(ascending=False)\n",
    "                     .reset_index(name='count'))\n",
    "\n",
    "    return (trip['Start Station'][0] + ' to ' + trip['End Station'][0], trip['count'][0])\n",
    "\n",
    "    "
   ]
  },
  {
   "cell_type": "code",
   "execution_count": 17,
   "metadata": {
    "collapsed": true
   },
   "outputs": [],
   "source": [
    "def users(city_file, time_period):\n",
    "    '''TODO: fill out docstring with description, arguments, and return values.\n",
    "    Question: What are the counts of each user type?\n",
    "    '''\n",
    "    # TODO: complete function\n",
    "    return city_file['User Type'].value_counts()\n"
   ]
  },
  {
   "cell_type": "code",
   "execution_count": null,
   "metadata": {
    "collapsed": true
   },
   "outputs": [],
   "source": [
    "def gender(city_file, time_period):\n",
    "    '''TODO: fill out docstring with description, arguments, and return values.\n",
    "    Question: What are the counts of gender?\n",
    "    '''\n",
    "    # TODO: complete function\n",
    "    return city_file['Gender'].value_counts()    "
   ]
  },
  {
   "cell_type": "code",
   "execution_count": null,
   "metadata": {
    "collapsed": true
   },
   "outputs": [],
   "source": [
    "def birth_years(city_file, time_period):\n",
    "    '''TODO: fill out docstring with description, arguments, and return values.\n",
    "    Question: What are the earliest, most recent, and most popular birth years?\n",
    "    '''\n",
    "    # TODO: complete function\n",
    "    return {'oldest': int(city_file['Birth Year'].min()),\n",
    "            'youngest': int(city_file['Birth Year'].max()),\n",
    "            'most popular': int(city_file['Birth Year'].mode)}\n",
    "    "
   ]
  },
  {
   "cell_type": "code",
   "execution_count": 18,
   "metadata": {
    "collapsed": true
   },
   "outputs": [],
   "source": [
    "def display_data():\n",
    "    '''Displays five lines of data if the user specifies that they would like to.\n",
    "    After displaying five lines, ask the user if they would like to see five more,\n",
    "    continuing asking until they say stop.\n",
    "\n",
    "    Args:\n",
    "        none.\n",
    "    Returns:\n",
    "        TODO: fill out return type and description (see get_city for an example)\n",
    "    '''\n",
    "    display = input('Would you like to view individual trip data?'\n",
    "                    'Type \\'yes\\' or \\'no\\'. ')\n",
    "    # TODO: handle raw input and complete function\n",
    "    \n",
    "    if display:\n",
    "        return True\n",
    "    else:\n",
    "        return False\n",
    "        "
   ]
  },
  {
   "cell_type": "code",
   "execution_count": null,
   "metadata": {
    "collapsed": true
   },
   "outputs": [],
   "source": [
    "def statistics():\n",
    "    '''Calculates and prints out the descriptive statistics about a city and time period\n",
    "    specified by the user via raw input.\n",
    "\n",
    "    Args:\n",
    "        none.\n",
    "    Returns:\n",
    "        none.\n",
    "    '''\n",
    "    # Filter by city (Chicago, New York, Washington)\n",
    "    city = get_city()\n",
    "\n",
    "    # Filter by time period (month, day, none)\n",
    "    time_period = get_time_period()\n",
    "\n",
    "    print('Calculating the first statistic...')\n",
    "    start_time = time.time()\n",
    "\n",
    "    # What is the most popular month for start time?\n",
    "    if time_period == 'none':\n",
    "        # TODO: call popular_month function and print the results\n",
    "\n",
    "    print(\"That took %s seconds.\" % (time.time() - start_time))\n",
    "    print(\"Calculating the next statistic...\")\n",
    "    start_time = time.time()\n",
    "\n",
    "    # What is the most popular day of week (Monday, Tuesday, etc.) for start time?\n",
    "    if time_period == 'none' or time_period == 'month':\n",
    "        # TODO: call popular_day function and print the results\n",
    "\n",
    "    print(\"That took %s seconds.\" % (time.time() - start_time))\n",
    "    print(\"Calculating the next statistic...\")\n",
    "    start_time = time.time()\n",
    "\n",
    "    # What is the most popular hour of day for start time?\n",
    "    # TODO: call popular_day function and print the results\n",
    "\n",
    "    print(\"That took %s seconds.\" % (time.time() - start_time))\n",
    "    print(\"Calculating the next statistic...\")\n",
    "    start_time = time.time()\n",
    "\n",
    "    # What is the total trip duration and average trip duration?\n",
    "    # TODO: call trip_duration function and print the results\n",
    "\n",
    "    print(\"That took %s seconds.\" % (time.time() - start_time))\n",
    "    print(\"Calculating the next statistic...\")\n",
    "    start_time = time.time()\n",
    "\n",
    "    # What is the most popular start station and most popular end station?\n",
    "    # TODO: call popular_stations function and print the results\n",
    "\n",
    "    print(\"That took %s seconds.\" % (time.time() - start_time))\n",
    "    print(\"Calculating the next statistic...\")\n",
    "    start_time = time.time()\n",
    "\n",
    "    # What is the most popular trip?\n",
    "    # TODO: call popular_trip function and print the results\n",
    "\n",
    "    print(\"That took %s seconds.\" % (time.time() - start_time))\n",
    "    print(\"Calculating the next statistic...\")\n",
    "    start_time = time.time()\n",
    "\n",
    "    # What are the counts of each user type?\n",
    "    # TODO: call users function and print the results\n",
    "\n",
    "    print(\"That took %s seconds.\" % (time.time() - start_time))\n",
    "    print(\"Calculating the next statistic...\")\n",
    "    start_time = time.time()\n",
    "\n",
    "    # What are the counts of gender?\n",
    "    # TODO: call gender function and print the results\n",
    "\n",
    "    print(\"That took %s seconds.\" % (time.time() - start_time))\n",
    "    print(\"Calculating the next statistic...\")\n",
    "    start_time = time.time()\n",
    "\n",
    "    # What are the earliest, most recent, and most popular birth years?\n",
    "    # TODO: call birth_years function and print the results\n",
    "\n",
    "    print(\"That took %s seconds.\" % (time.time() - start_time))\n",
    "\n",
    "    # Display five lines of data at a time if user specifies that they would like to\n",
    "    display_data()\n",
    "\n",
    "    # Restart?\n",
    "    restart = input('Would you like to restart? Type \\'yes\\' or \\'no\\'.')\n",
    "    if restart.lower() == 'yes':\n",
    "        statistics()\n",
    "\n",
    "\n",
    "if __name__ == \"__main__\":\n",
    "\tstatistics()\n",
    "\n"
   ]
  }
 ],
 "metadata": {
  "kernelspec": {
   "display_name": "Python 3",
   "language": "python",
   "name": "python3"
  },
  "language_info": {
   "codemirror_mode": {
    "name": "ipython",
    "version": 3
   },
   "file_extension": ".py",
   "mimetype": "text/x-python",
   "name": "python",
   "nbconvert_exporter": "python",
   "pygments_lexer": "ipython3",
   "version": "3.6.3"
  }
 },
 "nbformat": 4,
 "nbformat_minor": 2
}
