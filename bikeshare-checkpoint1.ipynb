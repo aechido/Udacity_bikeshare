{
 "cells": [
  {
   "cell_type": "code",
   "execution_count": 1,
   "metadata": {
    "collapsed": true
   },
   "outputs": [],
   "source": [
    "import csv\n",
    "import datetime as dt\n",
    "import time       "
   ]
  },
  {
   "cell_type": "code",
   "execution_count": null,
   "metadata": {
    "collapsed": true
   },
   "outputs": [],
   "source": [
    "with open('chicago.csv', 'r') as chifile:\n",
    "    a = [{k: int(v) for k, v in row.items()}\n",
    "             for row in csv.DictReader(chifile, skipinitialspace=True)]\n",
    "        \n",
    "with open('new_york_city.csv', 'r') as nycfile:\n",
    "    a = [{k: int(v) for k, v in row.items()}\n",
    "             for row in csv.DictReader(nycfile, skipinitialspace=True)]\n",
    "\n",
    "with open('washington.csv', 'r') as wasfile:\n",
    "    a = [{k: int(v) for k, v in row.items()}\n",
    "             for row in csv.DictReader(wasfile, skipinitialspace=True)]"
   ]
  },
  {
   "cell_type": "code",
   "execution_count": null,
   "metadata": {
    "collapsed": true
   },
   "outputs": [],
   "source": [
    "# maybe\n",
    "with open(chicago) as f:\n",
    "    reader = csv.DictReader(f)\n",
    "    chicago_list=[row for row in reader]\n",
    "\n",
    "\n",
    "with open(new_york_city) as f:\n",
    "    reader = csv.DictReader(f)\n",
    "    ny_list=[row for row in reader]\n",
    "\n",
    "with open(washington) as f:\n",
    "    reader = csv.DictReader(f)\n",
    "    washington_list=[row for row in reader]\n",
    "\n",
    "data_dict={}\n"
   ]
  },
  {
   "cell_type": "code",
   "execution_count": 10,
   "metadata": {
    "collapsed": true
   },
   "outputs": [],
   "source": [
    "## Filenames\n",
    "chicago = 'chicago.csv'\n",
    "new_york_city = 'new_york_city.csv'\n",
    "washington = 'washington.csv'"
   ]
  },
  {
   "cell_type": "code",
   "execution_count": 14,
   "metadata": {
    "collapsed": true
   },
   "outputs": [],
   "source": [
    "def get_city():\n",
    "    '''Asks the user for a city and returns the filename for that city's bike share data.\n",
    "\n",
    "    Args:\n",
    "        none.\n",
    "    Returns:\n",
    "        (str) Filename for a city's bikeshare data.\n",
    "    '''\n",
    "    city = input('\\nHello! Let\\'s explore some US bikeshare data!\\n'\n",
    "                 'Would you like to see data for Chicago, New York, or Washington?\\n')\n",
    "    # TODO: handle raw input and complete function\n",
    "    if city == \"Chicago\":\n",
    "        return(chicago)\n",
    "    elif city == \"New York\":\n",
    "        return(new_york_city)\n",
    "    elif city == \"Washington\":\n",
    "        return (washington)\n",
    "    else:\n",
    "        return(\"Please select city\")"
   ]
  },
  {
   "cell_type": "code",
   "execution_count": 12,
   "metadata": {
    "collapsed": true
   },
   "outputs": [],
   "source": [
    "def get_time_period():\n",
    "    '''Asks the user for a time period and returns the specified filter.\n",
    "\n",
    "    Args:\n",
    "        none.\n",
    "    Returns:\n",
    "        TODO: fill out return type and description (see get_city for an example)\n",
    "    '''\n",
    "    time_period = input('\\nWould you like to filter the data by month, day, or not at'\n",
    "                        ' all? Type \"none\" for no time filter.\\n')\n",
    "    # TODO: handle raw input and complete function\n",
    "    month = ['January', 'February', 'March', 'April', 'May', 'June']\n",
    "    day = ['Monday', 'Tuesday', 'Wednesday', 'Thursday', 'Friday', 'Saturday', 'Sunday']\n",
    "    if time_period == \"month\":\n",
    "        return (month) # maybe get_month?\n",
    "    elif time_period == \"day\":\n",
    "        return (day) # maybe get_day?\n",
    "    else:\n",
    "        return (\"select time period\")"
   ]
  },
  {
   "cell_type": "code",
   "execution_count": 7,
   "metadata": {
    "collapsed": true
   },
   "outputs": [],
   "source": [
    "def get_month():\n",
    "    '''Asks the user for a month and returns the specified month.\n",
    "\n",
    "    Args:\n",
    "        none.\n",
    "    Returns:\n",
    "        TODO: fill out return type and description (see get_city for an example)\n",
    "    '''\n",
    "    month = input('\\nWhich month? January, February, March, April, May, or June?\\n')\n",
    "    # TODO: handle raw input and complete function\n",
    "    if month == \"January\" or month == \"February\" or month == \"March\"or month == \"April\" or month == \"May\"or month == \"June\":\n",
    "        return month\n",
    "    else:\n",
    "        return \"Please select month from January - June\""
   ]
  },
  {
   "cell_type": "code",
   "execution_count": null,
   "metadata": {
    "collapsed": true
   },
   "outputs": [],
   "source": [
    "def get_day(month):\n",
    "    '''Asks the user for a day and returns the specified day.\n",
    "\n",
    "    Args:\n",
    "        none.\n",
    "    Returns:\n",
    "        TODO: fill out return type and description (see get_city for an example)\n",
    "    '''\n",
    "    day = input('\\nWhich day? Please type your response as an integer.\\n')\n",
    "    # TODO: handle raw input and complete function\n",
    "    if day == 'Monday' or 'Tuesday' or 'Wednesday' or 'Thursday' or 'Friday' or 'Saturday' or 'Sunday':\n",
    "        return day\n",
    "    else:\n",
    "        return \"select a valid day\""
   ]
  },
  {
   "cell_type": "code",
   "execution_count": null,
   "metadata": {
    "collapsed": true
   },
   "outputs": [],
   "source": [
    "def popular_month(city_file, time_period):\n",
    "    '''TODO: fill out docstring with description, arguments, and return values.\n",
    "    Question: What is the most popular month for start time?\n",
    "    '''\n",
    "    # TODO: complete function\n",
    "    city_file= csv.Dictreader(f)\n",
    "    counting={}\n",
    "    for row in data[city_file]:\n",
    "        pop_month= city_file.datetime(row[\"Start Time\"])\n",
    "        month= time??\n",
    "    if month in counting:\n",
    "        counting[month]+=1\n",
    "    else:\n",
    "        counting[month]=1\n",
    "        \n",
    "    #city_file = input.start_time()\n",
    "    #return max(set(start_time), key=start_time.count)"
   ]
  },
  {
   "cell_type": "code",
   "execution_count": null,
   "metadata": {
    "collapsed": true
   },
   "outputs": [],
   "source": [
    "def popular_day(city_file, time_period):\n",
    "    '''TODO: fill out docstring with description, arguments, and return values.\n",
    "    Question: What is the most popular day of week (Monday, Tuesday, etc.) for start time?\n",
    "    '''\n",
    "    # TODO: complete function\n",
    "    city_file= csv.Dictreader(f)\n",
    "    counting={}\n",
    "    for row in data[city_file]:\n",
    "        pop_day= city_file.datetime(row[\"Start Time\"])\n",
    "        day= time??\n",
    "    if day in counting:\n",
    "        counting[day]+=1\n",
    "    else:\n",
    "        counting[day]=1\n",
    "        \n",
    "    #city_file = input.start_time()\n",
    "    #return max(set(start_time), key=start_time.count)        "
   ]
  },
  {
   "cell_type": "code",
   "execution_count": null,
   "metadata": {
    "collapsed": true
   },
   "outputs": [],
   "source": [
    "def popular_hour(city_file, time_period):\n",
    "    '''TODO: fill out docstring with description, arguments, and return values.\n",
    "    Question: What is the most popular hour of day for start time?\n",
    "    '''\n",
    "    # TODO: complete function\n",
    "    city_file= csv.Dictreader(f)\n",
    "    counting={}\n",
    "    for row in data[city_file]:\n",
    "        pop_hour= city_file.datetime(row[\"Start Time\"])\n",
    "        hour= time??\n",
    "    if hour in counting:\n",
    "        counting[hour]+=1\n",
    "    else:\n",
    "        counting[hour]=1\n",
    "        \n",
    "    #city_file = input.start_time()\n",
    "    #return max(set(start_time), key=start_time.count)"
   ]
  },
  {
   "cell_type": "code",
   "execution_count": null,
   "metadata": {
    "collapsed": true
   },
   "outputs": [],
   "source": [
    "def trip_duration(city_file, time_period):\n",
    "    '''TODO: fill out docstring with description, arguments, and return values.\n",
    "    Question: What is the total trip duration and average trip duration?\n",
    "    '''\n",
    "    # TODO: complete function"
   ]
  },
  {
   "cell_type": "code",
   "execution_count": null,
   "metadata": {
    "collapsed": true
   },
   "outputs": [],
   "source": [
    "def popular_stations(city_file, time_period):\n",
    "    '''TODO: fill out docstring with description, arguments, and return values.\n",
    "    Question: What is the most popular start station and most popular end station?\n",
    "    '''\n",
    "    # TODO: complete function"
   ]
  },
  {
   "cell_type": "code",
   "execution_count": null,
   "metadata": {
    "collapsed": true
   },
   "outputs": [],
   "source": [
    "def popular_trip(city_file, time_period):\n",
    "    '''TODO: fill out docstring with description, arguments, and return values.\n",
    "    Question: What is the most popular trip?\n",
    "    '''\n",
    "    # TODO: complete function"
   ]
  },
  {
   "cell_type": "code",
   "execution_count": null,
   "metadata": {
    "collapsed": true
   },
   "outputs": [],
   "source": [
    "def users(city_file, time_period):\n",
    "    '''TODO: fill out docstring with description, arguments, and return values.\n",
    "    Question: What are the counts of each user type?\n",
    "    '''\n",
    "    # TODO: complete function\n"
   ]
  },
  {
   "cell_type": "code",
   "execution_count": null,
   "metadata": {
    "collapsed": true
   },
   "outputs": [],
   "source": [
    "def gender(city_file, time_period):\n",
    "    '''TODO: fill out docstring with description, arguments, and return values.\n",
    "    Question: What are the counts of gender?\n",
    "    '''\n",
    "    # TODO: complete function"
   ]
  },
  {
   "cell_type": "code",
   "execution_count": null,
   "metadata": {
    "collapsed": true
   },
   "outputs": [],
   "source": [
    "def birth_years(city_file, time_period):\n",
    "    '''TODO: fill out docstring with description, arguments, and return values.\n",
    "    Question: What are the earliest, most recent, and most popular birth years?\n",
    "    '''\n",
    "    # TODO: complete function"
   ]
  },
  {
   "cell_type": "code",
   "execution_count": 23,
   "metadata": {},
   "outputs": [
    {
     "ename": "IndentationError",
     "evalue": "expected an indented block (<ipython-input-23-846808fbe780>, line 38)",
     "output_type": "error",
     "traceback": [
      "\u001b[1;36m  File \u001b[1;32m\"<ipython-input-23-846808fbe780>\"\u001b[1;36m, line \u001b[1;32m38\u001b[0m\n\u001b[1;33m    print(\"That took %s seconds.\" % (time.time() - start_time))\u001b[0m\n\u001b[1;37m        ^\u001b[0m\n\u001b[1;31mIndentationError\u001b[0m\u001b[1;31m:\u001b[0m expected an indented block\n"
     ]
    }
   ],
   "source": [
    "def display_data():\n",
    "    '''Displays five lines of data if the user specifies that they would like to.\n",
    "    After displaying five lines, ask the user if they would like to see five more,\n",
    "    continuing asking until they say stop.\n",
    "\n",
    "    Args:\n",
    "        none.\n",
    "    Returns:\n",
    "        TODO: fill out return type and description (see get_city for an example)\n",
    "    '''\n",
    "    display = input('Would you like to view individual trip data?'\n",
    "                    'Type \\'yes\\' or \\'no\\'. ')\n",
    "    # TODO: handle raw input and complete function\n",
    "-"
   ]
  },
  {
   "cell_type": "code",
   "execution_count": null,
   "metadata": {
    "collapsed": true
   },
   "outputs": [],
   "source": [
    "def statistics():\n",
    "    '''Calculates and prints out the descriptive statistics about a city and time period\n",
    "    specified by the user via raw input.\n",
    "\n",
    "    Args:\n",
    "        none.\n",
    "    Returns:\n",
    "        none.\n",
    "    '''\n",
    "    # Filter by city (Chicago, New York, Washington)\n",
    "    city = get_city()\n",
    "\n",
    "    # Filter by time period (month, day, none)\n",
    "    time_period = get_time_period()\n",
    "\n",
    "    print('Calculating the first statistic...')\n",
    "    start_time = time.time()\n",
    "\n",
    "    # What is the most popular month for start time?\n",
    "    if time_period == 'none':\n",
    "        # TODO: call popular_month function and print the results\n",
    "\n",
    "    print(\"That took %s seconds.\" % (time.time() - start_time))\n",
    "    print(\"Calculating the next statistic...\")\n",
    "    start_time = time.time()\n",
    "\n",
    "    # What is the most popular day of week (Monday, Tuesday, etc.) for start time?\n",
    "    if time_period == 'none' or time_period == 'month':\n",
    "        # TODO: call popular_day function and print the results\n",
    "\n",
    "    print(\"That took %s seconds.\" % (time.time() - start_time))\n",
    "    print(\"Calculating the next statistic...\")\n",
    "    start_time = time.time()\n",
    "\n",
    "    # What is the most popular hour of day for start time?\n",
    "    # TODO: call popular_day function and print the results\n",
    "\n",
    "    print(\"That took %s seconds.\" % (time.time() - start_time))\n",
    "    print(\"Calculating the next statistic...\")\n",
    "    start_time = time.time()\n",
    "\n",
    "    # What is the total trip duration and average trip duration?\n",
    "    # TODO: call trip_duration function and print the results\n",
    "\n",
    "    print(\"That took %s seconds.\" % (time.time() - start_time))\n",
    "    print(\"Calculating the next statistic...\")\n",
    "    start_time = time.time()\n",
    "\n",
    "    # What is the most popular start station and most popular end station?\n",
    "    # TODO: call popular_stations function and print the results\n",
    "\n",
    "    print(\"That took %s seconds.\" % (time.time() - start_time))\n",
    "    print(\"Calculating the next statistic...\")\n",
    "    start_time = time.time()\n",
    "\n",
    "    # What is the most popular trip?\n",
    "    # TODO: call popular_trip function and print the results\n",
    "\n",
    "    print(\"That took %s seconds.\" % (time.time() - start_time))\n",
    "    print(\"Calculating the next statistic...\")\n",
    "    start_time = time.time()\n",
    "\n",
    "    # What are the counts of each user type?\n",
    "    # TODO: call users function and print the results\n",
    "\n",
    "    print(\"That took %s seconds.\" % (time.time() - start_time))\n",
    "    print(\"Calculating the next statistic...\")\n",
    "    start_time = time.time()\n",
    "\n",
    "    # What are the counts of gender?\n",
    "    # TODO: call gender function and print the results\n",
    "\n",
    "    print(\"That took %s seconds.\" % (time.time() - start_time))\n",
    "    print(\"Calculating the next statistic...\")\n",
    "    start_time = time.time()\n",
    "\n",
    "    # What are the earliest, most recent, and most popular birth years?\n",
    "    # TODO: call birth_years function and print the results\n",
    "\n",
    "    print(\"That took %s seconds.\" % (time.time() - start_time))\n",
    "\n",
    "    # Display five lines of data at a time if user specifies that they would like to\n",
    "    display_data()\n",
    "\n",
    "    # Restart?\n",
    "    restart = input('Would you like to restart? Type \\'yes\\' or \\'no\\'.')\n",
    "    if restart.lower() == 'yes':\n",
    "        statistics()\n",
    "\n",
    "\n",
    "if __name__ == \"__main__\":\n",
    "\tstatistics()\n",
    "\n"
   ]
  }
 ],
 "metadata": {
  "kernelspec": {
   "display_name": "Python 3",
   "language": "python",
   "name": "python3"
  },
  "language_info": {
   "codemirror_mode": {
    "name": "ipython",
    "version": 3
   },
   "file_extension": ".py",
   "mimetype": "text/x-python",
   "name": "python",
   "nbconvert_exporter": "python",
   "pygments_lexer": "ipython3",
   "version": "3.6.3"
  }
 },
 "nbformat": 4,
 "nbformat_minor": 2
}
