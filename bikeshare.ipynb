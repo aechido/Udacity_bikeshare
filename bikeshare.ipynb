{
 "cells": [
  {
   "cell_type": "code",
   "execution_count": 1,
   "metadata": {
    "collapsed": true
   },
   "outputs": [],
   "source": [
    "import csv\n",
    "from datetime import datetime as dt\n",
    "import time "
   ]
  },
  {
   "cell_type": "code",
   "execution_count": 2,
   "metadata": {},
   "outputs": [
    {
     "ename": "NameError",
     "evalue": "name 'datetime' is not defined",
     "output_type": "error",
     "traceback": [
      "\u001b[1;31m---------------------------------------------------------------------------\u001b[0m",
      "\u001b[1;31mNameError\u001b[0m                                 Traceback (most recent call last)",
      "\u001b[1;32m<ipython-input-2-286d4c13e8ed>\u001b[0m in \u001b[0;36m<module>\u001b[1;34m()\u001b[0m\n\u001b[0;32m      9\u001b[0m     \u001b[0mi\u001b[0m \u001b[1;33m=\u001b[0m \u001b[1;36m0\u001b[0m\u001b[1;33m\u001b[0m\u001b[0m\n\u001b[0;32m     10\u001b[0m     \u001b[1;32mfor\u001b[0m \u001b[0mline\u001b[0m \u001b[1;32min\u001b[0m \u001b[0mchi_reader\u001b[0m\u001b[1;33m:\u001b[0m\u001b[1;33m\u001b[0m\u001b[0m\n\u001b[1;32m---> 11\u001b[1;33m         \u001b[0mstart_time\u001b[0m  \u001b[1;33m=\u001b[0m \u001b[0mdatetime\u001b[0m\u001b[1;33m.\u001b[0m\u001b[0mstrptime\u001b[0m\u001b[1;33m(\u001b[0m\u001b[0mline\u001b[0m\u001b[1;33m[\u001b[0m\u001b[1;34m'Start Time'\u001b[0m\u001b[1;33m]\u001b[0m\u001b[1;33m,\u001b[0m \u001b[1;34m'%Y-%m-%d %H:%M:%S'\u001b[0m\u001b[1;33m)\u001b[0m \u001b[1;31m# convert string time into  Python time\u001b[0m\u001b[1;33m\u001b[0m\u001b[0m\n\u001b[0m\u001b[0;32m     12\u001b[0m         \u001b[0mend_time\u001b[0m    \u001b[1;33m=\u001b[0m \u001b[0mdatetime\u001b[0m\u001b[1;33m.\u001b[0m\u001b[0mstrptime\u001b[0m\u001b[1;33m(\u001b[0m\u001b[0mline\u001b[0m\u001b[1;33m[\u001b[0m\u001b[1;34m'End Time'\u001b[0m\u001b[1;33m]\u001b[0m\u001b[1;33m,\u001b[0m \u001b[1;34m'%Y-%m-%d %H:%M:%S'\u001b[0m\u001b[1;33m)\u001b[0m\u001b[1;33m\u001b[0m\u001b[0m\n\u001b[0;32m     13\u001b[0m         \u001b[0mtrip_dur\u001b[0m    \u001b[1;33m=\u001b[0m \u001b[0mint\u001b[0m\u001b[1;33m(\u001b[0m\u001b[0mline\u001b[0m\u001b[1;33m[\u001b[0m\u001b[1;34m'Trip Duration'\u001b[0m\u001b[1;33m]\u001b[0m\u001b[1;33m)\u001b[0m\u001b[1;33m\u001b[0m\u001b[0m\n",
      "\u001b[1;31mNameError\u001b[0m: name 'datetime' is not defined"
     ]
    }
   ],
   "source": [
    "## Filenames\n",
    "chicago = 'chicago.csv'\n",
    "new_york_city = 'new_york_city.csv'\n",
    "washington = 'washington.csv'\n",
    "\n",
    "with open(chicago) as chifile:\n",
    "    chi_reader = csv.DictReader(chifile)\n",
    "    \n",
    "    i = 0\n",
    "    for line in chi_reader:\n",
    "        start_time  = datetime.strptime(line['Start Time'], '%Y-%m-%d %H:%M:%S') # convert string time into  Python time\n",
    "        end_time    = datetime.strptime(line['End Time'], '%Y-%m-%d %H:%M:%S')\n",
    "        trip_dur    = int(line['Trip Duration'])\n",
    "        start_stn   = line['Start Station']\n",
    "        end_stn     = line['End Station']\n",
    "        user_type   = line['User Type']\n",
    "        user_gender = line['Gender']\n",
    "        user_byear  = line['Birth Year']  # you might need to convert this to an integer\n",
    "        \n",
    "        print(start_time, end_time, trip_dur, start_stn, end_stn, user_type, user_gender, user_byear)\n",
    "        \n",
    "        i = i + 1\n",
    "        if i == 10: #print only 10 lines, otherwise it's massive amount of data\n",
    "            break\n",
    "    \n",
    "with open(new_york_city) as nycfile:\n",
    "    nyc_reader = csv.DictReader(nycfile)\n",
    "    \n",
    "    i = 0\n",
    "    for line in nyc_reader:\n",
    "        start_time  = datetime.strptime(line['Start Time'], '%Y-%m-%d %H:%M:%S') # convert string time into  Python time\n",
    "        end_time    = datetime.strptime(line['End Time'], '%Y-%m-%d %H:%M:%S')\n",
    "        trip_dur    = int(line['Trip Duration'])\n",
    "        start_stn   = line['Start Station']\n",
    "        end_stn     = line['End Station']\n",
    "        user_type   = line['User Type']\n",
    "        user_gender = line['Gender']\n",
    "        user_byear  = line['Birth Year']  # you might need to convert this to an integer\n",
    "    \n",
    "with open(washington) as wasfile:\n",
    "    was_reader = csv.DictReader(wasfile)\n",
    "    \n",
    "    i = 0\n",
    "    for line in was_reader:\n",
    "        start_time  = datetime.strptime(line['Start Time'], '%Y-%m-%d %H:%M:%S') # convert string time into  Python time\n",
    "        end_time    = datetime.strptime(line['End Time'], '%Y-%m-%d %H:%M:%S')\n",
    "        trip_dur    = int(line['Trip Duration'])\n",
    "        start_stn   = line['Start Station']\n",
    "        end_stn     = line['End Station']\n",
    "        user_type   = line['User Type']\n",
    "        user_gender = line['Gender']\n",
    "        user_byear  = line['Birth Year']  # you might need to convert this to an integer\n",
    "    \n",
    "  \n"
   ]
  },
  {
   "cell_type": "code",
   "execution_count": null,
   "metadata": {
    "collapsed": true
   },
   "outputs": [],
   "source": [
    "def get_city():\n",
    "    '''Asks the user for a city and returns the filename for that city's bike share data.\n",
    "\n",
    "    Args:\n",
    "        none.\n",
    "    Returns:\n",
    "        (str) Filename for a city's bikeshare data.\n",
    "    '''\n",
    "    city = input('\\nHello! Let\\'s explore some US bikeshare data!\\n'\n",
    "                 'Would you like to see data for Chicago, New York, or Washington?\\n')\n",
    "    # TODO: handle raw input and complete function\n",
    "    if city == \"Chicago\":\n",
    "        return(chicago)\n",
    "    elif city == \"New York\":\n",
    "        return(new_york_city)\n",
    "    elif city == \"Washington\":\n",
    "        return (washington)\n",
    "    else:\n",
    "        return(\"Please select one of the mentioned cities\")"
   ]
  },
  {
   "cell_type": "code",
   "execution_count": null,
   "metadata": {
    "collapsed": true
   },
   "outputs": [],
   "source": [
    "def get_time_period():\n",
    "    '''Asks the user for a time period and returns the specified filter.\n",
    "\n",
    "    Args:\n",
    "        none.\n",
    "    Returns:\n",
    "        TODO: fill out return type and description (see get_city for an example)\n",
    "    '''\n",
    "    time_period = input('\\nWould you like to filter the data by month, day, or not at'\n",
    "                        ' all? Type \"none\" for no time filter.\\n')\n",
    "    # TODO: handle raw input and complete function\n",
    "    month = ['January', 'February', 'March', 'April', 'May', 'June']\n",
    "    day = ['Monday', 'Tuesday', 'Wednesday', 'Thursday', 'Friday', 'Saturday', 'Sunday']\n",
    "    if time_period == \"month\":\n",
    "        return get_month\n",
    "    elif time_period == \"day\":\n",
    "        return get_day\n",
    "    else:\n",
    "        return get_city"
   ]
  },
  {
   "cell_type": "code",
   "execution_count": null,
   "metadata": {
    "collapsed": true
   },
   "outputs": [],
   "source": [
    "def get_month():\n",
    "    '''Asks the user for a month and returns the specified month.\n",
    "\n",
    "    Args:\n",
    "        none.\n",
    "    Returns:\n",
    "        TODO: fill out return type and description (see get_city for an example)\n",
    "    '''\n",
    "    month = input('\\nWhich month? January, February, March, April, May, or June?\\n')\n",
    "    # TODO: handle raw input and complete function\n",
    "    if month == \"January\" or month == \"February\" or month == \"March\"or month == \"April\" or month == \"May\"or month == \"June\":\n",
    "        return month\n",
    "    else:\n",
    "        return \"ERROR\""
   ]
  },
  {
   "cell_type": "code",
   "execution_count": null,
   "metadata": {
    "collapsed": true
   },
   "outputs": [],
   "source": [
    "def get_day(month):\n",
    "    '''Asks the user for a day and returns the specified day.\n",
    "\n",
    "    Args:\n",
    "        none.\n",
    "    Returns:\n",
    "        TODO: fill out return type and description (see get_city for an example)\n",
    "    '''\n",
    "    day = input('\\nWhich day? Please type your response as an integer.\\n')\n",
    "    # TODO: handle raw input and complete function\n",
    "    #return 'Monday', 'Tuesday', 'Wednesday', 'Thursday', 'Friday', 'Saturday', 'Sunday'\n",
    "    if int(day) <= 7:\n",
    "        return day\n",
    "    else:\n",
    "        return \"There is no such day!!\""
   ]
  }
 ],
 "metadata": {
  "kernelspec": {
   "display_name": "Python 3",
   "language": "python",
   "name": "python3"
  },
  "language_info": {
   "codemirror_mode": {
    "name": "ipython",
    "version": 3
   },
   "file_extension": ".py",
   "mimetype": "text/x-python",
   "name": "python",
   "nbconvert_exporter": "python",
   "pygments_lexer": "ipython3",
   "version": "3.6.3"
  }
 },
 "nbformat": 4,
 "nbformat_minor": 2
}
